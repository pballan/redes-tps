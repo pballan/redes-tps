{
 "cells": [
  {
   "cell_type": "code",
   "execution_count": 8,
   "metadata": {},
   "outputs": [
    {
     "name": "stdout",
     "output_type": "stream",
     "text": [
      "              ttl     rttMean     rttPrev             coord\n",
      "0     172.17.80.1  107.960502    0.000000           noLocAv\n",
      "1     192.168.0.1  118.183162   10.222660           noLocAv\n",
      "2       10.90.0.1  123.007989    4.824826           noLocAv\n",
      "3    10.171.0.145  133.372815   10.364827           noLocAv\n",
      "4   213.248.84.80  254.107952  120.735137  25.7743,-80.1937\n",
      "5  62.115.119.230  275.628090   21.520138  39.0437,-77.4875\n",
      "6  62.115.122.158  348.747560   73.119470    48.8534,2.3488\n",
      "7   62.115.118.63  354.837290    6.089730    48.8534,2.3488\n"
     ]
    }
   ],
   "source": [
    "import pandas as pd\n",
    "\n",
    "df = pd.read_csv('Africa.csv')\n",
    "\n",
    "print(df.to_string()) "
   ]
  }
 ],
 "metadata": {
  "kernelspec": {
   "display_name": "Python 3 (ipykernel)",
   "language": "python",
   "name": "python3"
  },
  "language_info": {
   "codemirror_mode": {
    "name": "ipython",
    "version": 3
   },
   "file_extension": ".py",
   "mimetype": "text/x-python",
   "name": "python",
   "nbconvert_exporter": "python",
   "pygments_lexer": "ipython3",
   "version": "3.10.12"
  }
 },
 "nbformat": 4,
 "nbformat_minor": 4
}
