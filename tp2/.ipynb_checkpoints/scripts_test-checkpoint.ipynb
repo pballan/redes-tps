{
 "cells": [
  {
   "cell_type": "code",
   "execution_count": 5,
   "id": "de75bb76-cf9e-46ea-a040-4184c9467618",
   "metadata": {},
   "outputs": [
    {
     "ename": "ModuleNotFoundError",
     "evalue": "No module named 'scapy'",
     "output_type": "error",
     "traceback": [
      "\u001b[1;31m---------------------------------------------------------------------------\u001b[0m",
      "\u001b[1;31mModuleNotFoundError\u001b[0m                       Traceback (most recent call last)",
      "\u001b[1;32mUbuntu\\home\\pballan\\TDC-Redes-master\\TDC-Redes-master\\TP2\\notebooks\\tp2.ipynb Cell 1\u001b[0m line \u001b[0;36m2\n\u001b[0;32m      <a href='vscode-notebook-cell://wsl.localhost/Ubuntu/home/pballan/TDC-Redes-master/TDC-Redes-master/TP2/notebooks/tp2.ipynb#W0sZmlsZQ%3D%3D?line=0'>1</a>\u001b[0m \u001b[39mimport\u001b[39;00m \u001b[39msys\u001b[39;00m\n\u001b[1;32m----> <a href='vscode-notebook-cell://wsl.localhost/Ubuntu/home/pballan/TDC-Redes-master/TDC-Redes-master/TP2/notebooks/tp2.ipynb#W0sZmlsZQ%3D%3D?line=1'>2</a>\u001b[0m \u001b[39mfrom\u001b[39;00m \u001b[39mscapy\u001b[39;00m\u001b[39m.\u001b[39;00m\u001b[39mall\u001b[39;00m \u001b[39mimport\u001b[39;00m \u001b[39m*\u001b[39m\n\u001b[0;32m      <a href='vscode-notebook-cell://wsl.localhost/Ubuntu/home/pballan/TDC-Redes-master/TDC-Redes-master/TP2/notebooks/tp2.ipynb#W0sZmlsZQ%3D%3D?line=2'>3</a>\u001b[0m \u001b[39mfrom\u001b[39;00m \u001b[39mtime\u001b[39;00m \u001b[39mimport\u001b[39;00m \u001b[39m*\u001b[39m\n\u001b[0;32m      <a href='vscode-notebook-cell://wsl.localhost/Ubuntu/home/pballan/TDC-Redes-master/TDC-Redes-master/TP2/notebooks/tp2.ipynb#W0sZmlsZQ%3D%3D?line=3'>4</a>\u001b[0m \u001b[39mimport\u001b[39;00m \u001b[39mmatplotlib\u001b[39;00m\u001b[39m.\u001b[39;00m\u001b[39mpyplot\u001b[39;00m \u001b[39mas\u001b[39;00m \u001b[39mplt\u001b[39;00m\n",
      "\u001b[1;31mModuleNotFoundError\u001b[0m: No module named 'scapy'"
     ]
    }
   ],
   "source": [
    "import sys\n",
    "from scapy.all import *\n",
    "from time import *\n",
    "import matplotlib.pyplot as plt"
   ]
  },
  {
   "cell_type": "code",
   "execution_count": 3,
   "id": "5d62c924-b51b-4afc-9456-7b0c44cf0a23",
   "metadata": {},
   "outputs": [],
   "source": [
    "MILLISECONDS = 1000\n",
    "MAX_TTL = 31\n",
    "PROBES_PER_TTL = 30\n",
    "TIME_EXCEEDED_TYPE = 11\n",
    "ECHO_REPLY_TYPE = 0\n",
    "\n",
    "def traceroute(url):\n",
    "    responses = {ttl: [] for ttl in range(1, MAX_TTL+1)}\n",
    "    max_ttl = MAX_TTL + 1\n",
    "    for ttl in range(1,MAX_TTL+1):\n",
    "        if ttl > max_ttl:\n",
    "            return responses\n",
    "        for attempt in range(PROBES_PER_TTL):\n",
    "            probe = IP(dst=url, ttl=ttl) / ICMP()\n",
    "            tiempo_inicio = time()\n",
    "            # Send and receive one packet\n",
    "            # https://scapy.readthedocs.io/en/latest/usage.html#send-and-receive-packets-sr\n",
    "            ans = sr1(probe, verbose=False, timeout=0.8)\n",
    "            tiempo_final = time()\n",
    "            rtt = (tiempo_final - tiempo_inicio)*MILLISECONDS\n",
    "            if ans is not None:\n",
    "                icmp_type = ans[ICMP].type\n",
    "                if icmp_type == TIME_EXCEEDED_TYPE or icmp_type == ECHO_REPLY_TYPE:\n",
    "                    responses[ttl].append({'ip': ans.src, 'rtt': rtt})\n",
    "                if icmp_type == ECHO_REPLY_TYPE:\n",
    "                    max_ttl = ttl\n",
    "    return responses\n",
    "\n",
    "# Returns most visited IP in a series of probes\n",
    "def most_visited_ip(probes):\n",
    "    ips_seen = {}\n",
    "    for result in probes:\n",
    "        ip = result['ip']\n",
    "#         print(f'ip: {ip}')\n",
    "        if ip not in ips_seen:\n",
    "            ips_seen[ip] = 1\n",
    "        else:\n",
    "            ips_seen[ip] += 1\n",
    "#     print(ips_seen)\n",
    "    return max(ips_seen, key=ips_seen.get)\n",
    "\n",
    "# Returns dictionary of results but only those that visited the most visited IP\n",
    "def filter_by_most_visited_ip(results):\n",
    "    res = {}\n",
    "    for ttl, probes in results.items():\n",
    "        if len(probes) == 0:\n",
    "            continue\n",
    "        filter_ip = most_visited_ip(probes)\n",
    "        res[ttl] = [probe for probe in probes if probe['ip'] == filter_ip]\n",
    "    return res\n",
    "\n",
    "# Average of all values in a list of numbers\n",
    "def average(lst):\n",
    "    return sum(lst) / len(lst)\n",
    "        \n",
    "# Returns the average rtt for a list of probes\n",
    "def average_rtt(probes):\n",
    "#     print(f'avg for {probes}')\n",
    "    return average([result['rtt'] for result in probes])\n",
    "        \n",
    "# Returns a dict of (ttl, average_rtt) with the average_rtt of all probes for that TTL\n",
    "def dict_of_average_rtt(results):\n",
    "    average_dict = {}\n",
    "    for ttl, probes in results.items():\n",
    "        if len(probes) == 0:\n",
    "            continue\n",
    "        average = average_rtt(probes)\n",
    "        average_dict[ttl] = {'ip': probes[0]['ip'], 'average_rtt': average}\n",
    "    return average_dict\n",
    "\n",
    "# Takes a dict of (ttl, average_rtt)\n",
    "# Returns a dict of (hops, difference)\n",
    "def rtt_per_hops(averaged_results):\n",
    "    retorned = []\n",
    "    previous_ttl = 1\n",
    "    for ttl, results in averaged_results.items():\n",
    "        rtt = results['average_rtt']\n",
    "        if ttl > 1:\n",
    "            print(f'rtt between {results[\"average_rtt\"]}, {averaged_results[previous_ttl][\"average_rtt\"]}')\n",
    "            rtt = results['average_rtt'] - averaged_results[previous_ttl]['average_rtt']\n",
    "            if rtt < 0:\n",
    "                print('rtt is negative')\n",
    "                continue\n",
    "            previous_ttl = ttl\n",
    "        retorned.append({'ttl': ttl, 'rtt': rtt})\n",
    "    return retorned"
   ]
  },
  {
   "cell_type": "code",
   "execution_count": 4,
   "id": "19717778-763a-4330-985d-96a430a544bf",
   "metadata": {},
   "outputs": [
    {
     "ename": "NameError",
     "evalue": "name 'IP' is not defined",
     "output_type": "error",
     "traceback": [
      "\u001b[1;31m---------------------------------------------------------------------------\u001b[0m",
      "\u001b[1;31mNameError\u001b[0m                                 Traceback (most recent call last)",
      "\u001b[1;32mUbuntu\\home\\pballan\\TDC-Redes-master\\TDC-Redes-master\\TP2\\notebooks\\tp2.ipynb Cell 3\u001b[0m line \u001b[0;36m1\n\u001b[1;32m----> <a href='vscode-notebook-cell://wsl.localhost/Ubuntu/home/pballan/TDC-Redes-master/TDC-Redes-master/TP2/notebooks/tp2.ipynb#W2sZmlsZQ%3D%3D?line=0'>1</a>\u001b[0m res \u001b[39m=\u001b[39m traceroute(\u001b[39m'\u001b[39;49m\u001b[39mwww.alexu.edu.eg\u001b[39;49m\u001b[39m'\u001b[39;49m)\n\u001b[0;32m      <a href='vscode-notebook-cell://wsl.localhost/Ubuntu/home/pballan/TDC-Redes-master/TDC-Redes-master/TP2/notebooks/tp2.ipynb#W2sZmlsZQ%3D%3D?line=1'>2</a>\u001b[0m \u001b[39mprint\u001b[39m(res)\n",
      "\u001b[1;32mUbuntu\\home\\pballan\\TDC-Redes-master\\TDC-Redes-master\\TP2\\notebooks\\tp2.ipynb Cell 3\u001b[0m line \u001b[0;36m1\n\u001b[0;32m     <a href='vscode-notebook-cell://wsl.localhost/Ubuntu/home/pballan/TDC-Redes-master/TDC-Redes-master/TP2/notebooks/tp2.ipynb#W2sZmlsZQ%3D%3D?line=11'>12</a>\u001b[0m     \u001b[39mreturn\u001b[39;00m responses\n\u001b[0;32m     <a href='vscode-notebook-cell://wsl.localhost/Ubuntu/home/pballan/TDC-Redes-master/TDC-Redes-master/TP2/notebooks/tp2.ipynb#W2sZmlsZQ%3D%3D?line=12'>13</a>\u001b[0m \u001b[39mfor\u001b[39;00m attempt \u001b[39min\u001b[39;00m \u001b[39mrange\u001b[39m(PROBES_PER_TTL):\n\u001b[1;32m---> <a href='vscode-notebook-cell://wsl.localhost/Ubuntu/home/pballan/TDC-Redes-master/TDC-Redes-master/TP2/notebooks/tp2.ipynb#W2sZmlsZQ%3D%3D?line=13'>14</a>\u001b[0m     probe \u001b[39m=\u001b[39m IP(dst\u001b[39m=\u001b[39murl, ttl\u001b[39m=\u001b[39mttl) \u001b[39m/\u001b[39m ICMP()\n\u001b[0;32m     <a href='vscode-notebook-cell://wsl.localhost/Ubuntu/home/pballan/TDC-Redes-master/TDC-Redes-master/TP2/notebooks/tp2.ipynb#W2sZmlsZQ%3D%3D?line=14'>15</a>\u001b[0m     tiempo_inicio \u001b[39m=\u001b[39m time()\n\u001b[0;32m     <a href='vscode-notebook-cell://wsl.localhost/Ubuntu/home/pballan/TDC-Redes-master/TDC-Redes-master/TP2/notebooks/tp2.ipynb#W2sZmlsZQ%3D%3D?line=15'>16</a>\u001b[0m     \u001b[39m# Send and receive one packet\u001b[39;00m\n\u001b[0;32m     <a href='vscode-notebook-cell://wsl.localhost/Ubuntu/home/pballan/TDC-Redes-master/TDC-Redes-master/TP2/notebooks/tp2.ipynb#W2sZmlsZQ%3D%3D?line=16'>17</a>\u001b[0m     \u001b[39m# https://scapy.readthedocs.io/en/latest/usage.html#send-and-receive-packets-sr\u001b[39;00m\n",
      "\u001b[1;31mNameError\u001b[0m: name 'IP' is not defined"
     ]
    }
   ],
   "source": [
    "res = traceroute('www.alexu.edu.eg')\n",
    "print(res)"
   ]
  },
  {
   "cell_type": "code",
   "execution_count": 1,
   "id": "0caea082-d60c-43f5-ba6b-0060c85d8987",
   "metadata": {},
   "outputs": [
    {
     "ename": "NameError",
     "evalue": "name 'filter_by_most_visited_ip' is not defined",
     "output_type": "error",
     "traceback": [
      "\u001b[1;31m---------------------------------------------------------------------------\u001b[0m",
      "\u001b[1;31mNameError\u001b[0m                                 Traceback (most recent call last)",
      "\u001b[1;32mUbuntu\\home\\pballan\\TDC-Redes-master\\TDC-Redes-master\\TP2\\notebooks\\tp2.ipynb Cell 4\u001b[0m line \u001b[0;36m1\n\u001b[1;32m----> <a href='vscode-notebook-cell://wsl.localhost/Ubuntu/home/pballan/TDC-Redes-master/TDC-Redes-master/TP2/notebooks/tp2.ipynb#W3sZmlsZQ%3D%3D?line=0'>1</a>\u001b[0m most_visited \u001b[39m=\u001b[39m filter_by_most_visited_ip(res)\n\u001b[0;32m      <a href='vscode-notebook-cell://wsl.localhost/Ubuntu/home/pballan/TDC-Redes-master/TDC-Redes-master/TP2/notebooks/tp2.ipynb#W3sZmlsZQ%3D%3D?line=1'>2</a>\u001b[0m \u001b[39mprint\u001b[39m(most_visited)\n",
      "\u001b[1;31mNameError\u001b[0m: name 'filter_by_most_visited_ip' is not defined"
     ]
    }
   ],
   "source": [
    "most_visited = filter_by_most_visited_ip(res)\n",
    "print(most_visited)"
   ]
  },
  {
   "cell_type": "code",
   "execution_count": 14,
   "id": "2853242c-c689-47fb-84dc-6f137a220bba",
   "metadata": {},
   "outputs": [
    {
     "name": "stdout",
     "output_type": "stream",
     "text": [
      "{1: {'ip': '192.168.0.1', 'average_rtt': 74.47684512418859}, 2: {'ip': '10.90.0.1', 'average_rtt': 72.93366591135661}, 3: {'ip': '10.171.0.145', 'average_rtt': 77.0676300443452}, 4: {'ip': '3.3.3.1', 'average_rtt': 74.74246025085449}, 5: {'ip': '10.200.0.62', 'average_rtt': 77.28602091471355}, 6: {'ip': '8.243.137.197', 'average_rtt': 79.86922264099121}, 7: {'ip': '4.69.207.41', 'average_rtt': 284.0958595275879}, 9: {'ip': '154.54.88.225', 'average_rtt': 285.17144301842}, 10: {'ip': '154.54.24.145', 'average_rtt': 302.22606658935547}, 11: {'ip': '154.54.7.157', 'average_rtt': 299.51003392537433}, 12: {'ip': '154.54.85.242', 'average_rtt': 376.63201491038006}, 13: {'ip': '154.54.39.226', 'average_rtt': 385.7830392903295}, 14: {'ip': '154.54.74.166', 'average_rtt': 394.5664882659912}, 15: {'ip': '149.14.135.90', 'average_rtt': 407.9158703486125}, 21: {'ip': '193.227.16.32', 'average_rtt': 412.3751706090467}, 22: {'ip': '193.227.16.128', 'average_rtt': 428.679617245992}}\n"
     ]
    }
   ],
   "source": [
    "averages = dict_of_average_rtt(most_visited)\n",
    "print(averages)"
   ]
  },
  {
   "cell_type": "code",
   "execution_count": 6,
   "id": "a24a134f-1668-49e8-a1ce-3b3393b3993a",
   "metadata": {},
   "outputs": [
    {
     "name": "stdout",
     "output_type": "stream",
     "text": [
      "rtt between 2, 4\n",
      "rtt is negative\n",
      "rtt between 9, 4\n",
      "[{'ttl': 1, 'rtt': 4}, {'ttl': 5, 'rtt': 5}]\n"
     ]
    }
   ],
   "source": [
    "ret = rtt_per_hops({1: {'average_rtt': 4}, 3: {'average_rtt': 2}, 5: {'average_rtt': 9}})\n",
    "print(ret)"
   ]
  },
  {
   "cell_type": "code",
   "execution_count": 15,
   "id": "e191baa5-b5dc-4f33-8f4a-efae45c8b188",
   "metadata": {},
   "outputs": [
    {
     "name": "stdout",
     "output_type": "stream",
     "text": [
      "rtt between 72.93366591135661, 74.47684512418859\n",
      "rtt is negative\n",
      "rtt between 77.0676300443452, 74.47684512418859\n",
      "rtt between 74.74246025085449, 77.0676300443452\n",
      "rtt is negative\n",
      "rtt between 77.28602091471355, 77.0676300443452\n",
      "rtt between 79.86922264099121, 77.28602091471355\n",
      "rtt between 284.0958595275879, 79.86922264099121\n",
      "rtt between 285.17144301842, 284.0958595275879\n",
      "rtt between 302.22606658935547, 285.17144301842\n",
      "rtt between 299.51003392537433, 302.22606658935547\n",
      "rtt is negative\n",
      "rtt between 376.63201491038006, 302.22606658935547\n",
      "rtt between 385.7830392903295, 376.63201491038006\n",
      "rtt between 394.5664882659912, 385.7830392903295\n",
      "rtt between 407.9158703486125, 394.5664882659912\n",
      "rtt between 412.3751706090467, 407.9158703486125\n",
      "rtt between 428.679617245992, 412.3751706090467\n",
      "[{'ttl': 1, 'rtt': 74.47684512418859}, {'ttl': 3, 'rtt': 2.590784920156608}, {'ttl': 5, 'rtt': 0.2183908703683528}, {'ttl': 6, 'rtt': 2.5832017262776645}, {'ttl': 7, 'rtt': 204.22663688659668}, {'ttl': 9, 'rtt': 1.0755834908321162}, {'ttl': 10, 'rtt': 17.054623570935462}, {'ttl': 12, 'rtt': 74.4059483210246}, {'ttl': 13, 'rtt': 9.151024379949433}, {'ttl': 14, 'rtt': 8.783448975661713}, {'ttl': 15, 'rtt': 13.349382082621275}, {'ttl': 21, 'rtt': 4.4593002604341905}, {'ttl': 22, 'rtt': 16.30444663694533}]\n"
     ]
    }
   ],
   "source": [
    "ret = rtt_per_hops(averages)\n",
    "print(ret)"
   ]
  },
  {
   "cell_type": "code",
   "execution_count": 16,
   "id": "563a5251",
   "metadata": {},
   "outputs": [
    {
     "data": {
      "text/plain": [
       "([<matplotlib.axis.XTick at 0x7ff6cf8ba7c0>,\n",
       "  <matplotlib.axis.XTick at 0x7ff6cf876340>,\n",
       "  <matplotlib.axis.XTick at 0x7ff6cf897760>,\n",
       "  <matplotlib.axis.XTick at 0x7ff6cf80b340>,\n",
       "  <matplotlib.axis.XTick at 0x7ff6cf885e80>,\n",
       "  <matplotlib.axis.XTick at 0x7ff6cf80bcd0>,\n",
       "  <matplotlib.axis.XTick at 0x7ff6cf80c460>,\n",
       "  <matplotlib.axis.XTick at 0x7ff6cf80cbb0>,\n",
       "  <matplotlib.axis.XTick at 0x7ff6cf80e340>,\n",
       "  <matplotlib.axis.XTick at 0x7ff6cf80ea90>,\n",
       "  <matplotlib.axis.XTick at 0x7ff6cf811220>,\n",
       "  <matplotlib.axis.XTick at 0x7ff6cf80eb80>,\n",
       "  <matplotlib.axis.XTick at 0x7ff6cf80c850>],\n",
       " [Text(0, 0, ''),\n",
       "  Text(0, 0, ''),\n",
       "  Text(0, 0, ''),\n",
       "  Text(0, 0, ''),\n",
       "  Text(0, 0, ''),\n",
       "  Text(0, 0, ''),\n",
       "  Text(0, 0, ''),\n",
       "  Text(0, 0, ''),\n",
       "  Text(0, 0, ''),\n",
       "  Text(0, 0, ''),\n",
       "  Text(0, 0, ''),\n",
       "  Text(0, 0, ''),\n",
       "  Text(0, 0, '')])"
      ]
     },
     "execution_count": 16,
     "metadata": {},
     "output_type": "execute_result"
    },
    {
     "data": {
      "image/png": "[encoded data removed]",
      "text/plain": [
       "<Figure size 432x288 with 1 Axes>"
      ]
     },
     "metadata": {
      "needs_background": "light"
     },
     "output_type": "display_data"
    }
   ],
   "source": [
    "plt.plot([res[\"ttl\"] for res in ret], [res[\"rtt\"] for res in ret], 'b.-')\n",
    "plt.title(\"RTT entre saltos\")\n",
    "plt.ylabel(\"RTT en milisegundos\")\n",
    "plt.xlabel(\"TTLs\")\n",
    "plt.xticks(range(1,14))"
   ]
  },
  {
   "cell_type": "code",
   "execution_count": null,
   "id": "180c4c33",
   "metadata": {},
   "outputs": [],
   "source": [
    "df = df[df.latitud != \"noLocAv\"]\n",
    "geometry = gpd.points_from_xy(df.longitud, df.latitud)\n",
    "\n",
    "world = gpd.read_file(gpd.datasets.get_path('naturalearth_lowres'))\n",
    "\n",
    "gdf = gpd.GeoDataFrame(geometry=geometry)\n",
    "\n",
    "ax = world.plot(\n",
    "    color='white', edgecolor='black')\n",
    "\n",
    "gdf.plot(ax=ax, color='red')\n"
   ]
  }
 ],
 "metadata": {
  "kernelspec": {
   "display_name": "Python 3 (ipykernel)",
   "language": "python",
   "name": "python3"
  },
  "language_info": {
   "codemirror_mode": {
    "name": "ipython",
    "version": 3
   },
   "file_extension": ".py",
   "mimetype": "text/x-python",
   "name": "python",
   "nbconvert_exporter": "python",
   "pygments_lexer": "ipython3",
   "version": "3.11.6"
  }
 },
 "nbformat": 4,
 "nbformat_minor": 5
}
